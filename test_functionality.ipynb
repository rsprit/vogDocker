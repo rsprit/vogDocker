{
 "cells": [
  {
   "cell_type": "code",
   "execution_count": 10,
   "metadata": {},
   "outputs": [
    {
     "name": "stdout",
     "output_type": "stream",
     "text": [
      "Testing Search:\n"
     ]
    },
    {
     "data": {
      "text/plain": [
       "<generator object SpeciesService.search at 0x7f1e86505e40>"
      ]
     },
     "execution_count": 10,
     "metadata": {},
     "output_type": "execute_result"
    }
   ],
   "source": [
    "from vogdb.functionality import VogService, SpeciesService\n",
    "\n",
    "svc = VogService('/home/sigi/Documents/fastAPI/data')\n",
    "#filename = \"/home/sigi/Documents/fastAPI/data\"\n",
    "\n",
    "svc.species.search(name='India')"
   ]
  },
  {
   "cell_type": "code",
   "execution_count": 7,
   "metadata": {},
   "outputs": [
    {
     "name": "stdout",
     "output_type": "stream",
     "text": [
      "id=99930 name='Blackcurrant reversion virus satellite RNA' phage=False source='NCBI Refseq'\n"
     ]
    }
   ],
   "source": [
    "from vogdb.functionality import VogService, SpeciesService\n",
    "from vogdb.vogdb_api import Species\n",
    "\n",
    "svc = VogService('data')\n",
    "filename = \"data/vog.species.list\"\n",
    "\n",
    "sp_srch = SpeciesService(filename)\n",
    "\n",
    "sp_srch.search(name='India')\n",
    "\n",
    "print(sp_srch[99930])"
   ]
  },
  {
   "cell_type": "code",
   "execution_count": 8,
   "metadata": {},
   "outputs": [
    {
     "data": {
      "text/plain": [
       "<generator object SpeciesService.search at 0x7f1e86404200>"
      ]
     },
     "execution_count": 8,
     "metadata": {},
     "output_type": "execute_result"
    }
   ],
   "source": [
    "filename = \"data/vog.species.list\"\n",
    "sp_srch = SpeciesService(filename)\n",
    "sp_srch.search(name='India')"
   ]
  },
  {
   "cell_type": "code",
   "execution_count": 9,
   "metadata": {},
   "outputs": [
    {
     "data": {
      "text/plain": [
       "Species(id=99930, name='Blackcurrant reversion virus satellite RNA', phage=False, source='NCBI Refseq')"
      ]
     },
     "execution_count": 9,
     "metadata": {},
     "output_type": "execute_result"
    }
   ],
   "source": [
    "sp_srch[99930]"
   ]
  },
  {
   "cell_type": "code",
   "execution_count": null,
   "metadata": {},
   "outputs": [],
   "source": []
  },
  {
   "cell_type": "code",
   "execution_count": null,
   "metadata": {},
   "outputs": [],
   "source": []
  }
 ],
 "metadata": {
  "kernelspec": {
   "display_name": "Python 3",
   "language": "python",
   "name": "python3"
  },
  "language_info": {
   "codemirror_mode": {
    "name": "ipython",
    "version": 3
   },
   "file_extension": ".py",
   "mimetype": "text/x-python",
   "name": "python",
   "nbconvert_exporter": "python",
   "pygments_lexer": "ipython3",
   "version": "3.8.6"
  }
 },
 "nbformat": 4,
 "nbformat_minor": 4
}
