{
 "cells": [
  {
   "cell_type": "code",
   "execution_count": 2,
   "metadata": {},
   "outputs": [
    {
     "ename": "ModuleNotFoundError",
     "evalue": "No module named 'vogdb'",
     "output_type": "error",
     "traceback": [
      "\u001b[0;31m---------------------------------------------------------------------------\u001b[0m",
      "\u001b[0;31mModuleNotFoundError\u001b[0m                       Traceback (most recent call last)",
      "\u001b[0;32m<ipython-input-2-7395b9031d0e>\u001b[0m in \u001b[0;36m<module>\u001b[0;34m()\u001b[0m\n\u001b[0;32m----> 1\u001b[0;31m \u001b[0;32mfrom\u001b[0m \u001b[0mvogdb\u001b[0m\u001b[0;34m.\u001b[0m\u001b[0mfunctionality\u001b[0m \u001b[0;32mimport\u001b[0m \u001b[0mVogService\u001b[0m\u001b[0;34m,\u001b[0m \u001b[0mSpeciesService\u001b[0m\u001b[0;34m\u001b[0m\u001b[0;34m\u001b[0m\u001b[0m\n\u001b[0m\u001b[1;32m      2\u001b[0m \u001b[0;34m\u001b[0m\u001b[0m\n\u001b[1;32m      3\u001b[0m \u001b[0msvc\u001b[0m \u001b[0;34m=\u001b[0m \u001b[0mVogService\u001b[0m\u001b[0;34m(\u001b[0m\u001b[0;34m'/home/sigi/Documents/fastAPI/data'\u001b[0m\u001b[0;34m)\u001b[0m\u001b[0;34m\u001b[0m\u001b[0;34m\u001b[0m\u001b[0m\n\u001b[1;32m      4\u001b[0m \u001b[0;31m#filename = \"/home/sigi/Documents/fastAPI/data\"\u001b[0m\u001b[0;34m\u001b[0m\u001b[0;34m\u001b[0m\u001b[0;34m\u001b[0m\u001b[0m\n\u001b[1;32m      5\u001b[0m \u001b[0;34m\u001b[0m\u001b[0m\n",
      "\u001b[0;31mModuleNotFoundError\u001b[0m: No module named 'vogdb'"
     ]
    }
   ],
   "source": [
    "from vogdb.functionality import VogService, SpeciesService\n",
    "\n",
    "svc = VogService('/home/sigi/Documents/fastAPI/data')\n",
    "#filename = \"/home/sigi/Documents/fastAPI/data\"\n",
    "\n",
    "print(\"Testing Search:\")\n",
    "svc.species.search(name='India')\n"
   ]
  },
  {
   "cell_type": "code",
   "execution_count": null,
   "metadata": {},
   "outputs": [],
   "source": [
    "from functionality import VogService, SpeciesService\n",
    "from vogdb.vogdb_api import Species\n",
    "\n",
    "svc = VogService('data')\n",
    "filename = \"data/vog.species.list\"\n",
    "\n",
    "sp_srch = SpeciesService(filename)\n",
    "\n",
    "sp_srch.search(name='India')\n",
    "\n",
    "print(sp_srch[99930])"
   ]
  },
  {
   "cell_type": "code",
   "execution_count": null,
   "metadata": {},
   "outputs": [],
   "source": [
    "filename = \"data/vog.species.list\"\n",
    "sp_srch = SpeciesService(filename)\n",
    "sp_srch.search(name='India')"
   ]
  },
  {
   "cell_type": "code",
   "execution_count": null,
   "metadata": {},
   "outputs": [],
   "source": [
    "sp_srch[99930]"
   ]
  },
  {
   "cell_type": "code",
   "execution_count": null,
   "metadata": {},
   "outputs": [],
   "source": []
  }
 ],
 "metadata": {
  "kernelspec": {
   "display_name": "Python 3",
   "language": "python",
   "name": "python3"
  },
  "language_info": {
   "codemirror_mode": {
    "name": "ipython",
    "version": 3
   },
   "file_extension": ".py",
   "mimetype": "text/x-python",
   "name": "python",
   "nbconvert_exporter": "python",
   "pygments_lexer": "ipython3",
   "version": "3.7.8"
  }
 },
 "nbformat": 4,
 "nbformat_minor": 4
}
